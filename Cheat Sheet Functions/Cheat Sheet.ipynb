{
  "metadata": {
    "kernelspec": {
      "name": "python",
      "display_name": "Python (Pyodide)",
      "language": "python"
    },
    "language_info": {
      "codemirror_mode": {
        "name": "python",
        "version": 3
      },
      "file_extension": ".py",
      "mimetype": "text/x-python",
      "name": "python",
      "nbconvert_exporter": "python",
      "pygments_lexer": "ipython3",
      "version": "3.8"
    }
  },
  "nbformat_minor": 4,
  "nbformat": 4,
  "cells": [
    {
      "cell_type": "markdown",
      "source": "# Cheat Sheet Functions ",
      "metadata": {}
    },
    {
      "cell_type": "markdown",
      "source": "Functions can make or break the efficiency of code. Whether they are implemented by default or need to be created manually, functions are an insanely powerful tool designed to simplify, structure, and optimize information. ",
      "metadata": {}
    },
    {
      "cell_type": "markdown",
      "source": "Below will be several instances of functions, described by comments to best understand and dissect each line. The functions themselves will be paired with workable examples to show the effect these functions have and visualize why they are necessary.",
      "metadata": {}
    },
    {
      "cell_type": "markdown",
      "source": "## Functions: \n- #### Sorting and Searching Functions\n- #### Kwargs and Args Functions\n- #### Encoding Functions",
      "metadata": {}
    },
    {
      "cell_type": "markdown",
      "source": "## Sorting and Searching Functions\n\nThese functions will work to show how to sort and search for information in several different kinds of custom functions created using the ```def``` keyword. ",
      "metadata": {}
    },
    {
      "cell_type": "markdown",
      "source": "#### Fuzzy Matching and Replacing",
      "metadata": {}
    },
    {
      "cell_type": "code",
      "source": "# This function will take two string parameters and will calculate the similarity level between the two.\ndef commonality(sim1, sim2):\n    common_characters = set(sim1) & set(sim2)\n    commonality_rate = len(common_characters) / max(len(sim1), len(sim2))\n    return commonality_rate\n\n# This function finds words similar to a given word, calculates the similarity rate of each word and replaces the data based on a customizable similarity threshold.\ndef fuzzy_mr(word, data, threshold):\n    similar_words = {}\n    \n    for obj in data:\n        similarity_rate = commonality(word, obj)\n        if similarity_rate >= threshold:\n            similar_words[obj] = similarity_rate\n    return similar_words\n\n# EXAMPLE:\n\nword = \"apple\"\ndata = [\"appel\", \"aplÈ\", \"applE\", \"pear\", \"PeAr\", \"gRapefRuit\", 'applε', 'applœs']\nthreshold = 0.2\n\nsimilar_words = fuzzy_mr(word, data, threshold)\n\n# This line will check if 'similar_words' has found any similar words. \n# If so, it will print all values found in 'data' as well as their similarity rate compared to the given word. \nif similar_words:\n    print(f\"Similar words to '{word}':\")  \n    for similar_word, similarity in similar_words.items():\n        print(f\"{similar_word} | Similarity Rate: {similarity:.2f}\")\n\n    # This will iterate through every index amount found in 'data'.\n    # If the similarity rate is >= to the threshold amount, the specific word in the iterated index will be replaced with the given word. \n    for index in range(len(data)):\n        similarity = commonality(word, data[index])\n        if similarity >= threshold:\n            data[index] = word\n            \n    print(\"\\nUpdated data list:\")\n    print(data)\nelse:\n    print(f\"No similar words found for '{word}' within the given threshold.\")",
      "metadata": {
        "trusted": true
      },
      "outputs": [
        {
          "name": "stdout",
          "text": "Similar words to 'apple':\nappel | Similarity Rate: 0.80\naplÈ | Similarity Rate: 0.60\napplE | Similarity Rate: 0.60\npear | Similarity Rate: 0.60\nPeAr | Similarity Rate: 0.20\ngRapefRuit | Similarity Rate: 0.30\napplε | Similarity Rate: 0.60\napplœs | Similarity Rate: 0.50\n\nUpdated data list:\n['apple', 'apple', 'apple', 'apple', 'apple', 'apple', 'apple', 'apple']\n",
          "output_type": "stream"
        }
      ],
      "execution_count": 32
    },
    {
      "cell_type": "markdown",
      "source": "#### Binary Search & Counting Occurence",
      "metadata": {}
    },
    {
      "cell_type": "code",
      "source": "# The 'binary_search' function will use a given list('list1') and number('num') to locate the first index number of our desired value inside the list.\ndef binary_search(list1, num):\n    left_half = 0 \n    right_half = len(list1) - 1\n\n    # This line will create a loop to check each portion of the list, from left to right to find the first occurrence of the number.\n    # If no occurrence is found, the loop will end without a finding. \n    while left_half <= right_half:\n        middle = (left_half + right_half) // 2\n        if list1[middle] == num:\n            return middle\n        elif list1[middle] < num:\n            left_half = middle + 1\n        else:\n            right_half = middle - 1\n    return None\n\n\n# The 'count_frequency' function will use a SORTED list of values, a given element, and the binary_search function to locate a value and count the occurrences. \ndef count_frequency(list1, num):\n    list1 = sorted(list1)\n    index = binary_search(list1, num)\n    left_half = index + 1\n    right_half = index - 1\n \n    if index == -1:\n        return 0\n    else:\n        count = 1\n\n    # This loop counts the number of occurrences of the given number in the list.\n    # Starting from the index, it will go from left to right until it can't find any occurrences on the left side. \n    while left_half < len(list1) and list1[left_half] == num:\n        count += 1\n        left_half += 1\n\n    # Starting from the index, it will go from right to left until it can't find any occurrences on the right side.\n    while right_half >= 0 and list1[right_half] == num:\n        count += 1\n        right_half += 1\n    return count\n\n# EXAMPLE:\n\nlist1 = [1,5,4,3,6,8,1,3,6,8,3,1,2,4,6,7,5,3,1,3,5,6,8]\nnum = 5\nprint(f\"Number: {num} | Frequency Amount: {count_frequency(list1, num)}\")",
      "metadata": {
        "trusted": true
      },
      "outputs": [
        {
          "name": "stdout",
          "text": "Number: 5 | Frequency Amount: 3\n",
          "output_type": "stream"
        }
      ],
      "execution_count": 31
    },
    {
      "cell_type": "markdown",
      "source": "##  Kwargs and Aargs Functions\n\nThese functions will work to show why the use of ```*args``` and ```**kwargs``` are used to make code far more variable. \n\n```*args```: Used to handle an arbitrary number amount of NON-keyword arguments in a function, organized via a tuple. \n\n```**kwargs```: Used to handle an arbitrary number amount of KEYWORD arguments in a function, organized via a dictionary.",
      "metadata": {}
    },
    {
      "cell_type": "markdown",
      "source": "#### Calculating Grocery Price and Coupon Discount Using Args and Kwargs",
      "metadata": {}
    },
    {
      "cell_type": "code",
      "source": "# This defining line will calculate the total price of groceries using '*args' and '**kwargs'.\ndef PriceCalculator(*args, **kwargs):\n    total_price = sum(args)   \n    coupon_discount = kwargs.get('discount', 0)\n    \n    if coupon_discount:\n        total_price -= total_price * (coupon_discount / 100)  \n    return total_price\n\n# EXAMPLE:\n\ngrocery_prices = [20.99, 16.25, 4.99, 13.49, 76.46, 36.99, 45.67, 52.39, 78.28]\ndiscount_percent = 12\n\ntotal = round(PriceCalculator(*grocery_prices, discount=discount_percent), 2)\n\nif discount_percent > 0: \n    print(f\"Total price after {discount_percent}% discount: ${total}\")\nelse:\n    print(f\"Total price without discount: ${total}\")",
      "metadata": {
        "trusted": true
      },
      "outputs": [
        {
          "name": "stdout",
          "text": "Total price after 12% discount: $304.05\n",
          "output_type": "stream"
        }
      ],
      "execution_count": 40
    },
    {
      "cell_type": "markdown",
      "source": "#### Data Processing Using Kwargs ",
      "metadata": {}
    },
    {
      "cell_type": "code",
      "source": "import pandas as pd\nimport numpy as np\n\n\n# This defining line will allow for the preprocessing of our data via multiple optional functions as well as the inclusion of **kwargs.\ndef preprocess_data(df, dropna=False, new_order=None, fillna=False, fillna_col=None, **kwargs):\n    if new_order is not None:\n        df = df.reindex(columns=new_order)   \n    if fillna:\n        for column in fillna_col:\n            df[column] = df[column].fillna(**kwargs.get('KwargFill'))\n    return df\n\n\n# EXAMPLE: \n\ndata = {\n    'A': [1, 2, None, 4, 5, np.nan, 7, np.nan, 9, 10],\n    'B': [10, None, 30, 40, np.nan, 60, 70, 80, 90, 100],\n    'C': [1.5, 3, 4.5, 6, 7.5, np.nan, 10.5, 12, 13.5, np.nan],\n    'D': [100, None, 80, None, np.nan, 20, np.nan, 40, np.nan, 60]}\n\ndf = pd.DataFrame(data)\nprint(\"Original DataFrame:\")\nprint(df)\n\ndf_processed = preprocess_data(df, new_order=['D', 'C', 'B', 'A'], fillna=True, fillna_col=['D', 'C', 'B', 'A'], KwargFill={'value': 0})\nprint(\"\\nAfter Preprocessing:\")\nprint(df_processed)",
      "metadata": {
        "trusted": true
      },
      "outputs": [
        {
          "name": "stdout",
          "text": "Original DataFrame:\n      A      B     C      D\n0   1.0   10.0   1.5  100.0\n1   2.0    NaN   3.0    NaN\n2   NaN   30.0   4.5   80.0\n3   4.0   40.0   6.0    NaN\n4   5.0    NaN   7.5    NaN\n5   NaN   60.0   NaN   20.0\n6   7.0   70.0  10.5    NaN\n7   NaN   80.0  12.0   40.0\n8   9.0   90.0  13.5    NaN\n9  10.0  100.0   NaN   60.0\n\nAfter Preprocessing:\n       D     C      B     A\n0  100.0   1.5   10.0   1.0\n1    0.0   3.0    0.0   2.0\n2   80.0   4.5   30.0   0.0\n3    0.0   6.0   40.0   4.0\n4    0.0   7.5    0.0   5.0\n5   20.0   0.0   60.0   0.0\n6    0.0  10.5   70.0   7.0\n7   40.0  12.0   80.0   0.0\n8    0.0  13.5   90.0   9.0\n9   60.0   0.0  100.0  10.0\n",
          "output_type": "stream"
        }
      ],
      "execution_count": 42
    },
    {
      "cell_type": "markdown",
      "source": "## Encoding Functions \n\nThese functions will show how to encode elements and make a DataFrame focus on organization. ",
      "metadata": {}
    },
    {
      "cell_type": "markdown",
      "source": "#### Label Encoding ",
      "metadata": {}
    },
    {
      "cell_type": "code",
      "source": "import pandas as pd\nfrom sklearn.preprocessing import LabelEncoder\n\n# This line will define a function titled 'LabelEncoding' which will take a DataFrame('df') and specific columns in order to encode via numerical labels. \ndef LabelEncoding(df, columns):\n    LE = LabelEncoder()\n    \n    for column in columns:\n        df[column + '_encoded'] = LE.fit_transform(df[column]) \n    return df\n\n# EXAMPLE: \n\ndata = {\n    'Brand': ['BMW', 'Ford', 'Mercedes-Benz', 'Lancia', 'Lancia', 'BMW', 'BMW', 'Ford', 'Mercedes-Benz', 'Ford', 'BMW', 'Mercedes-Benz', 'Lancia', 'BMW'], \n    'Color': ['Red', 'Blue', 'White', 'Green', 'Red', 'Red', 'White', 'Green', 'White', 'Red', 'Blue', 'Blue', 'Blue', 'Red'], \n    'Length': [176.4, 182.8, 156.7, 167.5, 176.4, 182.8, 154.1, 183.9, 175.4, 143.6, 154.8, 165.8, 157.1, 187.5]} \n\ndf = pd.DataFrame(data)\nencoded_df = LabelEncoding(df, ['Brand'])\nprint(f\"One Column Encoded:\\n\\n{encoded_df}\")\n\nencoded_df2 = LabelEncoding(df, ['Brand', 'Color'])\nprint(f\"\\n\\nMultiple Columns Encoded:\\n\\n{encoded_df2}\")",
      "metadata": {
        "trusted": true
      },
      "outputs": [
        {
          "name": "stdout",
          "text": "One Column Encoded:\n\n            Brand  Color  Length  Brand_encoded\n0             BMW    Red   176.4              0\n1            Ford   Blue   182.8              1\n2   Mercedes-Benz  White   156.7              3\n3          Lancia  Green   167.5              2\n4          Lancia    Red   176.4              2\n5             BMW    Red   182.8              0\n6             BMW  White   154.1              0\n7            Ford  Green   183.9              1\n8   Mercedes-Benz  White   175.4              3\n9            Ford    Red   143.6              1\n10            BMW   Blue   154.8              0\n11  Mercedes-Benz   Blue   165.8              3\n12         Lancia   Blue   157.1              2\n13            BMW    Red   187.5              0\n\n\nMultiple Columns Encoded:\n\n            Brand  Color  Length  Brand_encoded  Color_encoded\n0             BMW    Red   176.4              0              2\n1            Ford   Blue   182.8              1              0\n2   Mercedes-Benz  White   156.7              3              3\n3          Lancia  Green   167.5              2              1\n4          Lancia    Red   176.4              2              2\n5             BMW    Red   182.8              0              2\n6             BMW  White   154.1              0              3\n7            Ford  Green   183.9              1              1\n8   Mercedes-Benz  White   175.4              3              3\n9            Ford    Red   143.6              1              2\n10            BMW   Blue   154.8              0              0\n11  Mercedes-Benz   Blue   165.8              3              0\n12         Lancia   Blue   157.1              2              0\n13            BMW    Red   187.5              0              2\n",
          "output_type": "stream"
        }
      ],
      "execution_count": 93
    },
    {
      "cell_type": "markdown",
      "source": "#### Frequency Encoding",
      "metadata": {}
    },
    {
      "cell_type": "code",
      "source": "import pandas as pd\n\n# This line defines the function, 'FrequencyEncoder' which will encode specific columns and assign each element with variables of frequency amount.\ndef FrequencyEncoder(df, columns):\n    for column in columns:\n        frequency = df[column].value_counts() / len(df)\n        df[column + '_frequency'] = df[column].map(frequency)\n    return df\n\n\n# EXAMPLE:\n\ndata = {\n    'Sex': ['Male', 'Female', 'Female', 'Male', 'Male', 'Female', 'Female', 'Male', 'Male', 'Male', 'Male', 'Female'],\n    'Inches': [67, 56, 72, 43, 83, 76, 62, 53, 75, 66, 54, 62],\n    'Weight': [142, 235, 176, 198, 110, 205, 298, 317, 123, 163, 367, 150]}\n\ndf = pd.DataFrame(data)\nencoded_df = FrequencyEncoder(df, ['Sex'])\nprint(f\"One Column Encoded:\\n\\n{encoded_df}\")\n\nencoded_df2 = FrequencyEncoder(df, ['Sex', 'Inches'])\nprint(f\"\\n\\nMultiple Columns Encoded:\\n\\n{encoded_df2}\")",
      "metadata": {
        "trusted": true
      },
      "outputs": [
        {
          "name": "stdout",
          "text": "One Column Encoded:\n\n       Sex  Inches  Weight  Sex_frequency\n0     Male      67     142       0.583333\n1   Female      56     235       0.416667\n2   Female      72     176       0.416667\n3     Male      43     198       0.583333\n4     Male      83     110       0.583333\n5   Female      76     205       0.416667\n6   Female      62     298       0.416667\n7     Male      53     317       0.583333\n8     Male      75     123       0.583333\n9     Male      66     163       0.583333\n10    Male      54     367       0.583333\n11  Female      62     150       0.416667\n\n\nMultiple Columns Encoded:\n\n       Sex  Inches  Weight  Sex_frequency  Inches_frequency\n0     Male      67     142       0.583333          0.083333\n1   Female      56     235       0.416667          0.083333\n2   Female      72     176       0.416667          0.083333\n3     Male      43     198       0.583333          0.083333\n4     Male      83     110       0.583333          0.083333\n5   Female      76     205       0.416667          0.083333\n6   Female      62     298       0.416667          0.166667\n7     Male      53     317       0.583333          0.083333\n8     Male      75     123       0.583333          0.083333\n9     Male      66     163       0.583333          0.083333\n10    Male      54     367       0.583333          0.083333\n11  Female      62     150       0.416667          0.166667\n",
          "output_type": "stream"
        }
      ],
      "execution_count": 43
    }
  ]
}